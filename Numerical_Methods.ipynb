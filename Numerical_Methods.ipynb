{
 "cells": [
  {
   "cell_type": "markdown",
   "metadata": {},
   "source": [
    "# Numerical Methods Using Python\n",
    "\n",
    "This notebook aims to introduce some numerical methods to solve differential equations in the field of quantum physics. We will solve the Schrödinger equation for some fixed potentials as well as for some Hamiltonians that cannot be solved analytically."
   ]
  },
  {
   "cell_type": "code",
   "execution_count": 1,
   "metadata": {},
   "outputs": [],
   "source": [
    "#Libraries to be used.\n",
    "import numpy as np\n",
    "import matplotlib.pyplot as plt"
   ]
  },
  {
   "cell_type": "markdown",
   "metadata": {},
   "source": [
    "## Euler Method\n",
    "Firts we will to discuss the principal method to solve ODE with the following form: This method have a linear error of $O(h)$. \n",
    "$$ \\frac{dy}{dx} = f(x,y) $$\n",
    "With initial condictions $y(x_i) = y_i$.  \n",
    "The Euler method can be develop as:\n",
    "$$ y_{i+1} = y_i + h\\cdot f(x_i,y_i) $$\n",
    "$$ x_{i+i} = x_i + h $$"
   ]
  },
  {
   "cell_type": "code",
   "execution_count": 2,
   "metadata": {},
   "outputs": [],
   "source": [
    "def euler(function, h,x_init,y_init, x_final):\n",
    "\n",
    "    x_list = [x_init]\n",
    "    y_list = [y_init]\n",
    "\n",
    "    x = x_init\n",
    "    y = y_init\n",
    "\n",
    "    points = np.arange(x_init, x_final, h)\n",
    "\n",
    "    for i in range(len(points)):\n",
    "        y = y + h*(function(x,y))\n",
    "        y_list.append(y)\n",
    "        x = x + h\n",
    "        x_list.append(x)\n",
    "\n",
    "    return np.array(x_list),np.array(y_list)"
   ]
  },
  {
   "cell_type": "markdown",
   "metadata": {},
   "source": [
    "## RK4\n",
    "\n",
    "This is one of the best known and most useful algorithms for solving ODEs. The error is a polynomial $O(h^4)$. The procedure is as follows: This algorithm (like most of them, always needs the initial conditions)\n",
    "\n",
    "$$   y_{i+1} = y_{i} + \\frac{1}{6}(K_1+2K_2+2K_3+K_4)\\cdot h $$\n",
    "$$ x_{i+1} = x_i + h $$\n",
    "Where all the K terms can be calculate as follow:\n",
    "$$ K_1 = f(x_i,y_i) $$\n",
    "$$ K_2 = f(x_i+\\frac{1}{2}h, y_i+\\frac{1}{2}K_1 h) $$\n",
    "$$ K_3 = f(x_i+\\frac{1}{2}h, y_i+\\frac{1}{2}K_2 h) $$\n",
    "$$ K_4 = f(x_i+h, y_i+K_3 h) $$"
   ]
  },
  {
   "cell_type": "code",
   "execution_count": 53,
   "metadata": {},
   "outputs": [],
   "source": [
    "def RK4(function, h,x_init,y_init, x_final):\n",
    "\n",
    "    x_list = [x_init]\n",
    "    y_list = [y_init]\n",
    "\n",
    "    x = x_init\n",
    "    y = y_init\n",
    "\n",
    "    points = np.arange(x_init, x_final, h)\n",
    "\n",
    "    for i in range(len(points)):\n",
    "        k1 = function(x,y)\n",
    "        k2 = function(x+0.5*h, y+0.5*k1*h)\n",
    "        k3 = function(x+0.5*h, y+0.5*k2*h)\n",
    "        k4 = function(x+h, y+k3*h)\n",
    "        \n",
    "        y = y + (1/6)*h*(k1+2*k2+2*k3+k4)\n",
    "        y_list.append(y)\n",
    "        x = x + h\n",
    "        x_list.append(x)\n",
    "\n",
    "    return np.array(x_list),np.array(y_list)"
   ]
  },
  {
   "cell_type": "markdown",
   "metadata": {},
   "source": [
    "Now, we will compare the two methods using a very simple ODE as:\n",
    "$$ \\frac{dy}{dx} = -2x^3+12x^2-20x+8.5 $$\n",
    "$$ y(0) = 2$$"
   ]
  },
  {
   "cell_type": "code",
   "execution_count": 54,
   "metadata": {},
   "outputs": [
    {
     "data": {
      "image/png": "[encoded data removed]",
      "text/plain": [
       "<Figure size 432x288 with 1 Axes>"
      ]
     },
     "metadata": {
      "needs_background": "light"
     },
     "output_type": "display_data"
    }
   ],
   "source": [
    "## Comparing the two methods we have the following:\n",
    "final_step = 4\n",
    "\n",
    "x = np.linspace(0,final_step,100)\n",
    "y_a = -0.5*x**4+4*x**3-10*x**2+8.5*x+2\n",
    "\n",
    "func = lambda x,y : -2*x**3+12*x**2-20*x+8.5\n",
    "\n",
    "x_init = 0\n",
    "y_init = 2\n",
    "h = 0.25\n",
    "x_eu, y_eu = euler(func,h,x_init, y_init,final_step)\n",
    "x_rk4, y_rk4 = RK4(func,h,x_init, y_init,final_step)\n",
    "\n",
    "plt.plot(x,y_a,label='Analytic')\n",
    "plt.plot(x_eu, y_eu,'o--',label='Euler')\n",
    "plt.plot(x_rk4, y_rk4,'o--',label='RK4')\n",
    "plt.xlabel(\"X values\")\n",
    "plt.ylabel(\"$f(x)$\")\n",
    "plt.title(\"Comparing Euler and RK4 method for solve ODE with h={}\".format(h))\n",
    "plt.legend()\n",
    "plt.show()"
   ]
  },
  {
   "cell_type": "markdown",
   "metadata": {},
   "source": [
    "The same method can be used to solve a second differential equation. Using RK4 to compute two different normal differential equation at the same time.\n",
    "\n",
    "$$ \\frac{dy^2}{dx^2} + 2\\frac{dy}{dx} + y = 2e^x $$\n",
    "\n",
    "With:\n",
    "\n",
    "$$ y(-1.4) = -1.5 $$\n",
    "$$ y'(-1.4) = 5.55 $$"
   ]
  },
  {
   "cell_type": "code",
   "execution_count": 64,
   "metadata": {},
   "outputs": [],
   "source": [
    "def rk4su(func1, func2,h, x_init, y_init, u_init, x_final):\n",
    "\n",
    "    x_list = [x_init]\n",
    "    y_list = [y_init]\n",
    "    u_list = [u_init]\n",
    "\n",
    "    points = np.arange(x_init, x_final, h)\n",
    "\n",
    "    x = x_init\n",
    "    y = y_init\n",
    "    u = u_init\n",
    "\n",
    "    for i in range(len(points)):\n",
    "\n",
    "        k1_1 = func1(x,u)\n",
    "        k1_2 = func2(x,y,u)\n",
    "\n",
    "        k2_1 = func1(x+0.5*h, u+0.5*k1_2*h)\n",
    "        k2_2 = func2(x+0.5*h, y+0.5*k1_1*h, u+0.5*k1_2*h)\n",
    "\n",
    "        k3_1 = func1(x+0.5*h, u+0.5*k2_2*h)\n",
    "        k3_2 = func2(x+0.5*h, y+0.5*k2_1*h, u+0.5*k2_2*h)\n",
    "\n",
    "        k4_1 = func1(x+h, u+k3_2*h)\n",
    "        k4_2 = func2(x+h, y+k3_1*h, u+k3_2*h)\n",
    "\n",
    "        u = u + (1/6)*h*(k1_2+2*k2_2+2*k3_2+k4_2)\n",
    "        y = y + (1/6)*h*(k1_1+2*k2_1+2*k3_1+k4_1)\n",
    "        x = x + h\n",
    "\n",
    "        x_list.append(x)\n",
    "        y_list.append(y)\n",
    "        u_list.append(u)\n",
    "\n",
    "    return np.array(x_list),np.array(y_list),np.array(u_list)"
   ]
  },
  {
   "cell_type": "code",
   "execution_count": 101,
   "metadata": {},
   "outputs": [
    {
     "data": {
      "image/png": "[encoded data removed]",
      "text/plain": [
       "<Figure size 432x288 with 1 Axes>"
      ]
     },
     "metadata": {
      "needs_background": "light"
     },
     "output_type": "display_data"
    }
   ],
   "source": [
    "final_step = 3\n",
    "\n",
    "func1 = lambda x,u : u\n",
    "func2 = lambda x,y,u : 2*np.exp(x)-2*u-y\n",
    "\n",
    "x_init = -1.4\n",
    "y_init = -1.5\n",
    "yp_init = 5.55\n",
    "h = 0.5\n",
    "\n",
    "x = np.linspace(x_init,final_step,100)\n",
    "y_real = 1*np.exp(-x)+1*x*np.exp(-x)+0.5*np.exp(x)\n",
    "\n",
    "x_a, y_a, u_a = rk4su(func1, func2, h, x_init, y_init, yp_init, final_step)\n",
    "\n",
    "plt.plot(x, y_real,label=\"Analytically\")\n",
    "plt.plot(x_a, y_a,'o--',label=\"RK4\")\n",
    "plt.legend()\n",
    "plt.title(\"RK4 for second order differential equations.\")\n",
    "plt.xlabel(\"X values\")\n",
    "plt.ylabel(\"$f(x)$\")\n",
    "plt.show()"
   ]
  },
  {
   "cell_type": "code",
   "execution_count": null,
   "metadata": {},
   "outputs": [],
   "source": []
  }
 ],
 "metadata": {
  "kernelspec": {
   "display_name": "Python 3.9.5 64-bit",
   "language": "python",
   "name": "python3"
  },
  "language_info": {
   "codemirror_mode": {
    "name": "ipython",
    "version": 3
   },
   "file_extension": ".py",
   "mimetype": "text/x-python",
   "name": "python",
   "nbconvert_exporter": "python",
   "pygments_lexer": "ipython3",
   "version": "3.9.5"
  },
  "orig_nbformat": 4,
  "vscode": {
   "interpreter": {
    "hash": "b692c5112b84cb0f0146006066a71ec03118a3195a234c45307942b05862c083"
   }
  }
 },
 "nbformat": 4,
 "nbformat_minor": 2
}
